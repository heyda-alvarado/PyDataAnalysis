{
  "nbformat": 4,
  "nbformat_minor": 0,
  "metadata": {
    "colab": {
      "provenance": []
    },
    "kernelspec": {
      "name": "python3",
      "display_name": "Python 3"
    },
    "language_info": {
      "name": "python"
    }
  },
  "cells": [
    {
      "cell_type": "markdown",
      "source": [
        "**Objectives:** Thecode aims to perform temperature conversions and classify the temperatures into different categories. Let's break it down step by step:\n",
        "\n",
        "1.  We start by defining a function called fahrToCelsius. This function takes a temperature value in Fahrenheit as a parameter and converts it to Celsius using the formula (5/9) * (tempFahrenheit - 32). The result is stored in the tempCelsius variable.\n",
        "\n",
        "2. Next, we print the conversion of 32 degrees Fahrenheit to Celsius by calling the fahrToCelsius function with the value 32 as an argument. This provides an example of how the function is used."
      ],
      "metadata": {
        "id": "M2fHWY9my5IC"
      }
    },
    {
      "cell_type": "code",
      "execution_count": 3,
      "metadata": {
        "colab": {
          "base_uri": "https://localhost:8080/"
        },
        "id": "1Rn91Q3EwXyS",
        "outputId": "73d064a6-d7b9-4a8f-a839-f953408f0f57"
      },
      "outputs": [
        {
          "output_type": "stream",
          "name": "stdout",
          "text": [
            "32 degrees Fahrenheit in Celsius is: 0.0\n"
          ]
        }
      ],
      "source": [
        "# Defining the function \n",
        "\n",
        "def fahrToCelsius(tempFahrenheit):\n",
        "\n",
        "    # Convert the Fahrenheit into Celsius\n",
        "\n",
        "    tempCelsius = (5 / 9) * (tempFahrenheit - 32)\n",
        "\n",
        "    # Return the conversion value\n",
        "\n",
        "    return tempCelsius\n",
        "\n",
        "# Validating the function \n",
        "\n",
        "print(\"32 degrees Fahrenheit in Celsius is:\", fahrToCelsius(32))"
      ]
    },
    {
      "cell_type": "markdown",
      "source": [
        "3. Moving on, we define another function called tempClassifier. This function takes a temperature value in Celsius as a parameter and assigns it to the variable tempCelsius. The function then determines the class of the temperature based on the following conditions:\n",
        "\n",
        "\n",
        "> * If tempCelsius is less than -2, the tempClass is assigned a value of 0.\n",
        "> * If tempCelsius is between -2 and 2 (inclusive), the tempClass is assigned a value of 1.\n",
        "> * If tempCelsius is between 2 and 15 (inclusive), the tempClass is assigned a value of 2.\n",
        "> * If tempCelsius is greater than 15, the tempClass is assigned a value of 3."
      ],
      "metadata": {
        "id": "JhD1f4SJzyov"
      }
    },
    {
      "cell_type": "code",
      "source": [
        "# Pass the Celsius value to tempClassifier\n",
        "# Defining the function. Parameters for the function is the temperature in Celsius\n",
        "\n",
        "def tempClassifier(tempCelsius):\n",
        "  if tempCelsius < -2:\n",
        "   tempClass = 0\n",
        "  if tempCelsius >= -2 and tempCelsius <= 2:\n",
        "    tempClass = 1\n",
        "  if tempCelsius > 2 and tempCelsius <= 15:\n",
        "    tempClass = 2\n",
        "  if tempCelsius > 15:\n",
        "    tempClass = 3\n",
        "\n",
        "  return tempClass"
      ],
      "metadata": {
        "id": "zCFegRdWwvGJ"
      },
      "execution_count": 4,
      "outputs": []
    },
    {
      "cell_type": "markdown",
      "source": [
        "4. After defining the tempClassifier function, we import a list of temperature data named tempData. This list contains a series of temperature values."
      ],
      "metadata": {
        "id": "wGVlzfbJ0q5V"
      }
    },
    {
      "cell_type": "code",
      "execution_count": 5,
      "metadata": {
        "id": "0X0DJJGs2pbT"
      },
      "outputs": [],
      "source": [
        "# Import tempData\n",
        "\n",
        "tempData = list((19, 21, 21, 21, 23, 23, 23, 21, 19, 21, 19, 21, 23, 27, 27, 28, 30, 30, 32, 32, 32, 32, 34, 34,\n",
        "             34, 36, 36, 36, 36, 36, 36, 34, 34, 34, 34, 34, 34, 32, 30, 30, 30, 28, 28, 27, 27, 27, 23, 23,\n",
        "             21, 21, 21, 19, 19, 19, 18, 18, 21, 27, 28, 30, 32, 34, 36, 37, 37, 37, 39, 39, 39, 39, 39, 39,\n",
        "             41, 41, 41, 41, 41, 39, 39, 37, 37, 36, 36, 34, 34, 32, 30, 30, 28, 27, 27, 25, 23, 23, 21, 21,\n",
        "             19, 19, 19, 18, 18, 18, 21, 25, 27, 28, 34, 34, 41, 37, 37, 39, 39, 39, 39, 41, 41, 39, 39, 39,\n",
        "             39, 39, 41, 39, 39, 39, 37, 36, 34, 32, 28, 28, 27, 25, 25, 25, 23, 23, 23, 23, 21, 21, 21, 21,\n",
        "             19, 21, 19, 21, 21, 19, 21, 27, 28, 32, 36, 36, 37, 39, 39, 39, 39, 39, 41, 41, 41, 41, 41, 41,\n",
        "             41, 41, 41, 39, 37, 36, 36, 34, 32, 30, 28, 28, 27, 27, 25, 25, 23, 23, 23, 21, 21, 21, 19, 19,\n",
        "             19, 19, 19, 19, 21, 23, 23, 23, 25, 27, 30, 36, 37, 37, 39, 39, 41, 41, 41, 39, 39, 41, 43, 43,\n",
        "             43, 43, 43, 43, 43, 43, 43, 39, 37, 37, 37, 36, 36, 36, 36, 34, 32, 32, 32, 32, 30, 30, 28, 28,\n",
        "             28, 27, 27, 27, 27, 25, 27, 27, 27, 28, 28, 28, 30, 32, 32, 32, 34, 34, 36, 36, 36, 37, 37, 37,\n",
        "             37, 37, 37, 37, 37, 37, 36, 34, 30, 30, 27, 27, 25, 25, 23, 21, 21, 21, 21, 19, 19, 19, 19, 19,\n",
        "             18, 18, 18, 18, 18, 19, 23, 27, 30, 32, 32, 32, 32, 32, 32, 34, 34, 34, 34, 34, 36, 36, 36, 36,\n",
        "             36, 32, 32, 32, 32, 32, 32, 32, 32, 30, 30, 30, 30, 30, 30, 30, 30, 30, 30, 30, 30, 30, 28, 28))\n"
      ]
    },
    {
      "cell_type": "markdown",
      "source": [
        "5. Next, we define the create_list function. This function iterates over the tempData list and applies the tempClassifier function to each temperature value. The temperature value is first converted to Celsius using the fahrToCelsius function, and then the tempClassifier function is called to determine the class of the temperature. The resulting class values are stored in the tempClasses list.\n",
        "\n",
        "6. The create_list function returns the tempClasses list."
      ],
      "metadata": {
        "id": "tRRD4ZQX0-yc"
      }
    },
    {
      "cell_type": "code",
      "source": [
        "# Defining the function\n",
        "\n",
        "def create_list():\n",
        "    ''' Function to return list '''\n",
        "    tempClasses = []\n",
        "    for i in range(len(tempData)):\n",
        "        tempClasses.append(tempClassifier(fahrToCelsius(tempData[i])))\n",
        "    return tempClasses\n"
      ],
      "metadata": {
        "id": "CMgUaNp91Kf4"
      },
      "execution_count": 6,
      "outputs": []
    },
    {
      "cell_type": "markdown",
      "source": [
        "7. We call the create_list function and assign the returned list to the variable numbers.\n",
        "\n",
        "8. We count the occurrences of each classifier (0, 1, 2, 3) in the numbers list using the count method. Specifically, we use the count method to count how many times each classifier appears in the list, and store these counts in the variables count0, count1, count2, and count3."
      ],
      "metadata": {
        "id": "VlMSjhBg1nfK"
      }
    },
    {
      "cell_type": "code",
      "source": [
        "# Calling the function\n",
        "\n",
        "numbers = create_list()\n",
        "\n",
        "# Count occurences of each classifier\n",
        "\n",
        "count0 = numbers.count(0)\n",
        "count1 = numbers.count(1)\n",
        "count2 = numbers.count(2)\n",
        "count3 = numbers.count(3)"
      ],
      "metadata": {
        "id": "8UwXrH9H1gcH"
      },
      "execution_count": 7,
      "outputs": []
    },
    {
      "cell_type": "markdown",
      "source": [
        "9. Finally, we print the numbers list, followed by the counts of each classifier (count0, count1, count2, count3), and the total count of items in the list."
      ],
      "metadata": {
        "id": "4hGwcyGP2iW2"
      }
    },
    {
      "cell_type": "code",
      "source": [
        "print(numbers)\n",
        "print('The count of classifier 0 = ', count0)\n",
        "print('The count of classifier 1 = ', count1)\n",
        "print('The count of classifier 2 = ', count2)\n",
        "print('The count of classifier 3 = ', count3)\n",
        "print('The total of list items = ', count0+count1+count2+count3)"
      ],
      "metadata": {
        "colab": {
          "base_uri": "https://localhost:8080/"
        },
        "id": "xCR0AseZ2HqQ",
        "outputId": "7fea22f8-c00c-4136-8189-c122a473efc9"
      },
      "execution_count": 8,
      "outputs": [
        {
          "output_type": "stream",
          "name": "stdout",
          "text": [
            "[0, 0, 0, 0, 0, 0, 0, 0, 0, 0, 0, 0, 0, 0, 0, 0, 1, 1, 1, 1, 1, 1, 1, 1, 1, 2, 2, 2, 2, 2, 2, 1, 1, 1, 1, 1, 1, 1, 1, 1, 1, 0, 0, 0, 0, 0, 0, 0, 0, 0, 0, 0, 0, 0, 0, 0, 0, 0, 0, 1, 1, 1, 2, 2, 2, 2, 2, 2, 2, 2, 2, 2, 2, 2, 2, 2, 2, 2, 2, 2, 2, 2, 2, 1, 1, 1, 1, 1, 0, 0, 0, 0, 0, 0, 0, 0, 0, 0, 0, 0, 0, 0, 0, 0, 0, 0, 1, 1, 2, 2, 2, 2, 2, 2, 2, 2, 2, 2, 2, 2, 2, 2, 2, 2, 2, 2, 2, 2, 1, 1, 0, 0, 0, 0, 0, 0, 0, 0, 0, 0, 0, 0, 0, 0, 0, 0, 0, 0, 0, 0, 0, 0, 0, 1, 2, 2, 2, 2, 2, 2, 2, 2, 2, 2, 2, 2, 2, 2, 2, 2, 2, 2, 2, 2, 2, 1, 1, 1, 0, 0, 0, 0, 0, 0, 0, 0, 0, 0, 0, 0, 0, 0, 0, 0, 0, 0, 0, 0, 0, 0, 0, 0, 1, 2, 2, 2, 2, 2, 2, 2, 2, 2, 2, 2, 2, 2, 2, 2, 2, 2, 2, 2, 2, 2, 2, 2, 2, 2, 2, 2, 2, 1, 1, 1, 1, 1, 1, 1, 0, 0, 0, 0, 0, 0, 0, 0, 0, 0, 0, 0, 0, 0, 1, 1, 1, 1, 1, 1, 2, 2, 2, 2, 2, 2, 2, 2, 2, 2, 2, 2, 2, 1, 1, 1, 0, 0, 0, 0, 0, 0, 0, 0, 0, 0, 0, 0, 0, 0, 0, 0, 0, 0, 0, 0, 0, 0, 1, 1, 1, 1, 1, 1, 1, 1, 1, 1, 1, 1, 2, 2, 2, 2, 2, 1, 1, 1, 1, 1, 1, 1, 1, 1, 1, 1, 1, 1, 1, 1, 1, 1, 1, 1, 1, 1, 0, 0]\n",
            "The count of classifier 0 =  137\n",
            "The count of classifier 1 =  85\n",
            "The count of classifier 2 =  114\n",
            "The count of classifier 3 =  0\n",
            "The total of list items =  336\n"
          ]
        }
      ]
    }
  ]
}